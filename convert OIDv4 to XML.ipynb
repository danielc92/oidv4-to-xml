{
 "cells": [
  {
   "cell_type": "markdown",
   "metadata": {},
   "source": [
    "# Observations"
   ]
  },
  {
   "cell_type": "markdown",
   "metadata": {},
   "source": [
    "### Input file format\n",
    "- Each file represents one image from OIDv4, the filename is the same as the image name\n",
    "- One text file can have multiple bounding boxes\n",
    "- The coordinates are in the format as follows (class name, left upper corner (x), left upper corner (y), right lower corner (x), right lower corner (y))"
   ]
  },
  {
   "cell_type": "code",
   "execution_count": 1,
   "metadata": {
    "ExecuteTime": {
     "end_time": "2019-04-17T00:05:49.524648Z",
     "start_time": "2019-04-17T00:05:49.401098Z"
    }
   },
   "outputs": [
    {
     "name": "stdout",
     "output_type": "stream",
     "text": [
      "French fries 80.743424 110.21311999999999 952.539136 933.18656\r\n"
     ]
    }
   ],
   "source": [
    "!cat oid-samples/2558dd5cb4424643.txt"
   ]
  },
  {
   "cell_type": "code",
   "execution_count": 7,
   "metadata": {
    "ExecuteTime": {
     "end_time": "2019-04-17T00:06:39.107726Z",
     "start_time": "2019-04-17T00:06:38.987954Z"
    }
   },
   "outputs": [
    {
     "name": "stdout",
     "output_type": "stream",
     "text": [
      "French fries 0.003072 94.44096 390.41024 380.403456\r\n",
      "French fries 180.13183999999998 254.459136 890.2789119999999 656.116992\r\n"
     ]
    }
   ],
   "source": [
    "!cat oid-samples/2c48da973b97f97d.txt"
   ]
  },
  {
   "cell_type": "markdown",
   "metadata": {},
   "source": [
    "### Output file format \n",
    "- File is in XML format\n",
    "- folder is class name\n",
    "- path is arbituary, but should have the filename\n",
    "- size has dimensions\n",
    "- multiple objects can be represented by <object> tags\n",
    "- object has a different value expectation than above, it represent the edges of the bounding box, rather than coordinates of top left and bottom right corners, it also is an integer rather than floating point"
   ]
  },
  {
   "cell_type": "code",
   "execution_count": 8,
   "metadata": {
    "ExecuteTime": {
     "end_time": "2019-04-17T00:09:18.139992Z",
     "start_time": "2019-04-17T00:09:18.023210Z"
    }
   },
   "outputs": [
    {
     "name": "stdout",
     "output_type": "stream",
     "text": [
      "<annotation>\r\n",
      "\t<folder>goat</folder>\r\n",
      "\t<filename>20190220_160312.jpg</filename>\r\n",
      "\t<path>C:\\Users\\romolo.rocchi\\Desktop\\goat\\20190220_160312.jpg</path>\r\n",
      "\t<source>\r\n",
      "\t\t<database>Unknown</database>\r\n",
      "\t</source>\r\n",
      "\t<size>\r\n",
      "\t\t<width>640</width>\r\n",
      "\t\t<height>480</height>\r\n",
      "\t\t<depth>3</depth>\r\n",
      "\t</size>\r\n",
      "\t<segmented>0</segmented>\r\n",
      "\t<object>\r\n",
      "\t\t<name>goat</name>\r\n",
      "\t\t<pose>Unspecified</pose>\r\n",
      "\t\t<truncated>0</truncated>\r\n",
      "\t\t<difficult>0</difficult>\r\n",
      "\t\t<bndbox>\r\n",
      "\t\t\t<xmin>102</xmin>\r\n",
      "\t\t\t<ymin>186</ymin>\r\n",
      "\t\t\t<xmax>226</xmax>\r\n",
      "\t\t\t<ymax>263</ymax>\r\n",
      "\t\t</bndbox>\r\n",
      "\t</object>\r\n",
      "\t<object>\r\n",
      "\t\t<name>goat</name>\r\n",
      "\t\t<pose>Unspecified</pose>\r\n",
      "\t\t<truncated>0</truncated>\r\n",
      "\t\t<difficult>0</difficult>\r\n",
      "\t\t<bndbox>\r\n",
      "\t\t\t<xmin>436</xmin>\r\n",
      "\t\t\t<ymin>186</ymin>\r\n",
      "\t\t\t<xmax>567</xmax>\r\n",
      "\t\t\t<ymax>299</ymax>\r\n",
      "\t\t</bndbox>\r\n",
      "\t</object>\r\n",
      "</annotation>\r\n"
     ]
    }
   ],
   "source": [
    "!cat output-format/20190220_160312.xml"
   ]
  },
  {
   "cell_type": "markdown",
   "metadata": {},
   "source": [
    "# Creating the template\n",
    "Need to have two templates, master and object level (bounding box level)"
   ]
  },
  {
   "cell_type": "code",
   "execution_count": null,
   "metadata": {},
   "outputs": [],
   "source": [
    "master_template = \"\"\"\n",
    "<annotation>\n",
    "    <folder>{class_name}</folder>\n",
    "    <filename>{filename}</filename>\n",
    "    <path>/path/to/the/file/{filename}</path>\n",
    "    <source>\n",
    "        <database>Unknown</database>\n",
    "    </source>\n",
    "    <size>\n",
    "        <width>{image_width}</width>\n",
    "        <height>{image_height}</height>\n",
    "        <depth>3</depth>\n",
    "    </size>\n",
    "    <segmented>0</segmented>\n",
    "    { objects }\n",
    "</annotation>\n",
    "\"\"\""
   ]
  },
  {
   "cell_type": "code",
   "execution_count": null,
   "metadata": {},
   "outputs": [],
   "source": [
    "object_template =\"\"\"<object>\n",
    "        <name>{class_name}</name>\n",
    "        <pose>Unspecified</pose>\n",
    "        <truncated>0</truncated>\n",
    "        <difficult>0</difficult>\n",
    "        <bndbox>\n",
    "            <xmin>{xmin}</xmin>\n",
    "            <ymin>{186}</ymin>\n",
    "            <xmax>226</xmax>\n",
    "            <ymax>263</ymax>\n",
    "        </bndbox>\n",
    "</object>\n",
    "\"\"\""
   ]
  },
  {
   "cell_type": "code",
   "execution_count": null,
   "metadata": {},
   "outputs": [],
   "source": []
  }
 ],
 "metadata": {
  "kernelspec": {
   "display_name": "Python 3",
   "language": "python",
   "name": "python3"
  },
  "language_info": {
   "codemirror_mode": {
    "name": "ipython",
    "version": 3
   },
   "file_extension": ".py",
   "mimetype": "text/x-python",
   "name": "python",
   "nbconvert_exporter": "python",
   "pygments_lexer": "ipython3",
   "version": "3.6.5"
  },
  "toc": {
   "base_numbering": 1,
   "nav_menu": {},
   "number_sections": true,
   "sideBar": true,
   "skip_h1_title": false,
   "title_cell": "Table of Contents",
   "title_sidebar": "Contents",
   "toc_cell": false,
   "toc_position": {},
   "toc_section_display": true,
   "toc_window_display": false
  },
  "varInspector": {
   "cols": {
    "lenName": 16,
    "lenType": 16,
    "lenVar": 40
   },
   "kernels_config": {
    "python": {
     "delete_cmd_postfix": "",
     "delete_cmd_prefix": "del ",
     "library": "var_list.py",
     "varRefreshCmd": "print(var_dic_list())"
    },
    "r": {
     "delete_cmd_postfix": ") ",
     "delete_cmd_prefix": "rm(",
     "library": "var_list.r",
     "varRefreshCmd": "cat(var_dic_list()) "
    }
   },
   "types_to_exclude": [
    "module",
    "function",
    "builtin_function_or_method",
    "instance",
    "_Feature"
   ],
   "window_display": false
  }
 },
 "nbformat": 4,
 "nbformat_minor": 2
}
