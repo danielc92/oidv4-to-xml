{
 "cells": [
  {
   "cell_type": "markdown",
   "metadata": {},
   "source": [
    "# Observations"
   ]
  },
  {
   "cell_type": "markdown",
   "metadata": {},
   "source": [
    "### Input file format\n",
    "- Each file represents one image from OIDv4, the filename is the same as the image name\n",
    "- One text file can have multiple bounding boxes\n",
    "- The coordinates are in the format as follows (class name, left upper corner (x), left upper corner (y), right lower corner (x), right lower corner (y))"
   ]
  },
  {
   "cell_type": "code",
   "execution_count": 1,
   "metadata": {
    "ExecuteTime": {
     "end_time": "2019-04-17T01:11:21.076569Z",
     "start_time": "2019-04-17T01:11:20.957797Z"
    }
   },
   "outputs": [
    {
     "name": "stdout",
     "output_type": "stream",
     "text": [
      "cat: oid-samples/2558dd5cb4424643.txt: No such file or directory\r\n"
     ]
    }
   ],
   "source": [
    "!cat oid-samples/2558dd5cb4424643.txt"
   ]
  },
  {
   "cell_type": "code",
   "execution_count": 2,
   "metadata": {
    "ExecuteTime": {
     "end_time": "2019-04-17T01:11:21.200906Z",
     "start_time": "2019-04-17T01:11:21.080429Z"
    }
   },
   "outputs": [
    {
     "name": "stdout",
     "output_type": "stream",
     "text": [
      "cat: oid-samples/2c48da973b97f97d.txt: No such file or directory\r\n"
     ]
    }
   ],
   "source": [
    "!cat oid-samples/2c48da973b97f97d.txt"
   ]
  },
  {
   "cell_type": "markdown",
   "metadata": {},
   "source": [
    "### Output file format \n",
    "- File is in XML format\n",
    "- folder is class name\n",
    "- path is arbituary, but should have the filename\n",
    "- size has dimensions\n",
    "- multiple objects can be represented by <object> tags\n",
    "- object has a different value expectation than above, it represent the edges of the bounding box, rather than coordinates of top left and bottom right corners, it also is an integer rather than floating point"
   ]
  },
  {
   "cell_type": "code",
   "execution_count": 3,
   "metadata": {
    "ExecuteTime": {
     "end_time": "2019-04-17T01:11:21.321663Z",
     "start_time": "2019-04-17T01:11:21.204110Z"
    }
   },
   "outputs": [
    {
     "name": "stdout",
     "output_type": "stream",
     "text": [
      "<annotation>\r\n",
      "\t<folder>goat</folder>\r\n",
      "\t<filename>20190220_160312.jpg</filename>\r\n",
      "\t<path>C:\\Users\\romolo.rocchi\\Desktop\\goat\\20190220_160312.jpg</path>\r\n",
      "\t<source>\r\n",
      "\t\t<database>Unknown</database>\r\n",
      "\t</source>\r\n",
      "\t<size>\r\n",
      "\t\t<width>640</width>\r\n",
      "\t\t<height>480</height>\r\n",
      "\t\t<depth>3</depth>\r\n",
      "\t</size>\r\n",
      "\t<segmented>0</segmented>\r\n",
      "\t<object>\r\n",
      "\t\t<name>goat</name>\r\n",
      "\t\t<pose>Unspecified</pose>\r\n",
      "\t\t<truncated>0</truncated>\r\n",
      "\t\t<difficult>0</difficult>\r\n",
      "\t\t<bndbox>\r\n",
      "\t\t\t<xmin>102</xmin>\r\n",
      "\t\t\t<ymin>186</ymin>\r\n",
      "\t\t\t<xmax>226</xmax>\r\n",
      "\t\t\t<ymax>263</ymax>\r\n",
      "\t\t</bndbox>\r\n",
      "\t</object>\r\n",
      "\t<object>\r\n",
      "\t\t<name>goat</name>\r\n",
      "\t\t<pose>Unspecified</pose>\r\n",
      "\t\t<truncated>0</truncated>\r\n",
      "\t\t<difficult>0</difficult>\r\n",
      "\t\t<bndbox>\r\n",
      "\t\t\t<xmin>436</xmin>\r\n",
      "\t\t\t<ymin>186</ymin>\r\n",
      "\t\t\t<xmax>567</xmax>\r\n",
      "\t\t\t<ymax>299</ymax>\r\n",
      "\t\t</bndbox>\r\n",
      "\t</object>\r\n",
      "</annotation>\r\n"
     ]
    }
   ],
   "source": [
    "!cat output-format/20190220_160312.xml"
   ]
  },
  {
   "cell_type": "markdown",
   "metadata": {},
   "source": [
    "# Creating the template\n",
    "Need to have two templates, master and object level (bounding box level)"
   ]
  },
  {
   "cell_type": "code",
   "execution_count": 4,
   "metadata": {
    "ExecuteTime": {
     "end_time": "2019-04-17T01:11:21.328827Z",
     "start_time": "2019-04-17T01:11:21.324465Z"
    }
   },
   "outputs": [],
   "source": [
    "master_template = \"\"\"\n",
    "<annotation>\n",
    "    <folder>{class_name}</folder>\n",
    "    <filename>{filename}</filename>\n",
    "    <path>/path/to/the/file/{filename}</path>\n",
    "    <source>\n",
    "        <database>Unknown</database>\n",
    "    </source>\n",
    "    <size>\n",
    "        <width>{image_width}</width>\n",
    "        <height>{image_height}</height>\n",
    "        <depth>3</depth>\n",
    "    </size>\n",
    "    <segmented>0</segmented>\n",
    "    { objects }\n",
    "</annotation>\n",
    "\"\"\"\n",
    "\n",
    "object_template =\"\"\"<object>\n",
    "        <name>{class_name}</name>\n",
    "        <pose>Unspecified</pose>\n",
    "        <truncated>0</truncated>\n",
    "        <difficult>0</difficult>\n",
    "        <bndbox>\n",
    "            <xmin>{xmin}</xmin>\n",
    "            <ymin>{ymin}</ymin>\n",
    "            <xmax>{xmax}</xmax>\n",
    "            <ymax>{ymax}</ymax>\n",
    "        </bndbox>\n",
    "</object>\n",
    "\"\"\""
   ]
  },
  {
   "cell_type": "code",
   "execution_count": 5,
   "metadata": {
    "ExecuteTime": {
     "end_time": "2019-04-17T01:11:21.345412Z",
     "start_time": "2019-04-17T01:11:21.332020Z"
    }
   },
   "outputs": [],
   "source": [
    "import os\n",
    "from PIL import Image"
   ]
  },
  {
   "cell_type": "code",
   "execution_count": 6,
   "metadata": {
    "ExecuteTime": {
     "end_time": "2019-04-17T01:11:21.353104Z",
     "start_time": "2019-04-17T01:11:21.350047Z"
    }
   },
   "outputs": [],
   "source": [
    "IMG_DIR = './oid-samples'\n",
    "LABEL_DIR = './oid-samples/Label/'\n",
    "OUTPUT_FOLDER = './output'\n",
    "CLASS = 'French fries'"
   ]
  },
  {
   "cell_type": "markdown",
   "metadata": {},
   "source": [
    "### Create a reference file containing paths"
   ]
  },
  {
   "cell_type": "code",
   "execution_count": 7,
   "metadata": {
    "ExecuteTime": {
     "end_time": "2019-04-17T01:11:21.365129Z",
     "start_time": "2019-04-17T01:11:21.358843Z"
    }
   },
   "outputs": [],
   "source": [
    "data = []\n",
    "\n",
    "for f in os.listdir(IMG_DIR):\n",
    "    if f.endswith('.jpg'):\n",
    "        filename_short = f.split('.')[0]\n",
    "        data.append({'class': CLASS,\n",
    "                   'image-path': os.path.join(IMG_DIR, f), \n",
    "                   'label-path': os.path.join(LABEL_DIR, filename_short + '.txt')})"
   ]
  },
  {
   "cell_type": "code",
   "execution_count": 8,
   "metadata": {
    "ExecuteTime": {
     "end_time": "2019-04-17T01:11:21.387429Z",
     "start_time": "2019-04-17T01:11:21.367458Z"
    }
   },
   "outputs": [
    {
     "data": {
      "text/plain": [
       "[{'class': 'French fries',\n",
       "  'image-path': './oid-samples/6d9fbc51a1948a40.jpg',\n",
       "  'label-path': './oid-samples/Label/6d9fbc51a1948a40.txt'},\n",
       " {'class': 'French fries',\n",
       "  'image-path': './oid-samples/9ae92a954c81c9f6.jpg',\n",
       "  'label-path': './oid-samples/Label/9ae92a954c81c9f6.txt'},\n",
       " {'class': 'French fries',\n",
       "  'image-path': './oid-samples/75d869be38b6c2e7.jpg',\n",
       "  'label-path': './oid-samples/Label/75d869be38b6c2e7.txt'},\n",
       " {'class': 'French fries',\n",
       "  'image-path': './oid-samples/9984cd28f61bfa1b.jpg',\n",
       "  'label-path': './oid-samples/Label/9984cd28f61bfa1b.txt'},\n",
       " {'class': 'French fries',\n",
       "  'image-path': './oid-samples/f39df149a3d682a1.jpg',\n",
       "  'label-path': './oid-samples/Label/f39df149a3d682a1.txt'},\n",
       " {'class': 'French fries',\n",
       "  'image-path': './oid-samples/93ff8fc106d9e401.jpg',\n",
       "  'label-path': './oid-samples/Label/93ff8fc106d9e401.txt'},\n",
       " {'class': 'French fries',\n",
       "  'image-path': './oid-samples/f3fe70d0a2f39fb0.jpg',\n",
       "  'label-path': './oid-samples/Label/f3fe70d0a2f39fb0.txt'},\n",
       " {'class': 'French fries',\n",
       "  'image-path': './oid-samples/c7803107deac5ad4.jpg',\n",
       "  'label-path': './oid-samples/Label/c7803107deac5ad4.txt'},\n",
       " {'class': 'French fries',\n",
       "  'image-path': './oid-samples/7f4935a3a7ac89a0.jpg',\n",
       "  'label-path': './oid-samples/Label/7f4935a3a7ac89a0.txt'},\n",
       " {'class': 'French fries',\n",
       "  'image-path': './oid-samples/3e7cd1bd017f5919.jpg',\n",
       "  'label-path': './oid-samples/Label/3e7cd1bd017f5919.txt'},\n",
       " {'class': 'French fries',\n",
       "  'image-path': './oid-samples/3afc69f35d9da9c7.jpg',\n",
       "  'label-path': './oid-samples/Label/3afc69f35d9da9c7.txt'},\n",
       " {'class': 'French fries',\n",
       "  'image-path': './oid-samples/40b8a8a00a6706ee.jpg',\n",
       "  'label-path': './oid-samples/Label/40b8a8a00a6706ee.txt'},\n",
       " {'class': 'French fries',\n",
       "  'image-path': './oid-samples/e14e265736a72f47.jpg',\n",
       "  'label-path': './oid-samples/Label/e14e265736a72f47.txt'},\n",
       " {'class': 'French fries',\n",
       "  'image-path': './oid-samples/84ce6391a83edc87.jpg',\n",
       "  'label-path': './oid-samples/Label/84ce6391a83edc87.txt'},\n",
       " {'class': 'French fries',\n",
       "  'image-path': './oid-samples/9b251a0074ede7ad.jpg',\n",
       "  'label-path': './oid-samples/Label/9b251a0074ede7ad.txt'},\n",
       " {'class': 'French fries',\n",
       "  'image-path': './oid-samples/43f3d79caf46169c.jpg',\n",
       "  'label-path': './oid-samples/Label/43f3d79caf46169c.txt'},\n",
       " {'class': 'French fries',\n",
       "  'image-path': './oid-samples/f0db804d0577c7e1.jpg',\n",
       "  'label-path': './oid-samples/Label/f0db804d0577c7e1.txt'},\n",
       " {'class': 'French fries',\n",
       "  'image-path': './oid-samples/16faa0e313e4d982.jpg',\n",
       "  'label-path': './oid-samples/Label/16faa0e313e4d982.txt'},\n",
       " {'class': 'French fries',\n",
       "  'image-path': './oid-samples/c8ee68dc65921251.jpg',\n",
       "  'label-path': './oid-samples/Label/c8ee68dc65921251.txt'},\n",
       " {'class': 'French fries',\n",
       "  'image-path': './oid-samples/38aa49d91a05776d.jpg',\n",
       "  'label-path': './oid-samples/Label/38aa49d91a05776d.txt'},\n",
       " {'class': 'French fries',\n",
       "  'image-path': './oid-samples/fa8bb1d11bb4db6a.jpg',\n",
       "  'label-path': './oid-samples/Label/fa8bb1d11bb4db6a.txt'},\n",
       " {'class': 'French fries',\n",
       "  'image-path': './oid-samples/f848b29da934ae19.jpg',\n",
       "  'label-path': './oid-samples/Label/f848b29da934ae19.txt'},\n",
       " {'class': 'French fries',\n",
       "  'image-path': './oid-samples/19611dcf54decdef.jpg',\n",
       "  'label-path': './oid-samples/Label/19611dcf54decdef.txt'},\n",
       " {'class': 'French fries',\n",
       "  'image-path': './oid-samples/ca259dbe204736b5.jpg',\n",
       "  'label-path': './oid-samples/Label/ca259dbe204736b5.txt'},\n",
       " {'class': 'French fries',\n",
       "  'image-path': './oid-samples/7a9bf369bbbbe699.jpg',\n",
       "  'label-path': './oid-samples/Label/7a9bf369bbbbe699.txt'},\n",
       " {'class': 'French fries',\n",
       "  'image-path': './oid-samples/026d6e165412d914.jpg',\n",
       "  'label-path': './oid-samples/Label/026d6e165412d914.txt'},\n",
       " {'class': 'French fries',\n",
       "  'image-path': './oid-samples/6d514f85d30d4ff7.jpg',\n",
       "  'label-path': './oid-samples/Label/6d514f85d30d4ff7.txt'},\n",
       " {'class': 'French fries',\n",
       "  'image-path': './oid-samples/2558dd5cb4424643.jpg',\n",
       "  'label-path': './oid-samples/Label/2558dd5cb4424643.txt'},\n",
       " {'class': 'French fries',\n",
       "  'image-path': './oid-samples/e9e047109bbdd2c2.jpg',\n",
       "  'label-path': './oid-samples/Label/e9e047109bbdd2c2.txt'},\n",
       " {'class': 'French fries',\n",
       "  'image-path': './oid-samples/0aec8075414b7262.jpg',\n",
       "  'label-path': './oid-samples/Label/0aec8075414b7262.txt'},\n",
       " {'class': 'French fries',\n",
       "  'image-path': './oid-samples/c459919766389dcb.jpg',\n",
       "  'label-path': './oid-samples/Label/c459919766389dcb.txt'},\n",
       " {'class': 'French fries',\n",
       "  'image-path': './oid-samples/c5e7ddaa7e8fdeb6.jpg',\n",
       "  'label-path': './oid-samples/Label/c5e7ddaa7e8fdeb6.txt'},\n",
       " {'class': 'French fries',\n",
       "  'image-path': './oid-samples/3e1c6a76a5e13252.jpg',\n",
       "  'label-path': './oid-samples/Label/3e1c6a76a5e13252.txt'},\n",
       " {'class': 'French fries',\n",
       "  'image-path': './oid-samples/c3ba77ac600f5e09.jpg',\n",
       "  'label-path': './oid-samples/Label/c3ba77ac600f5e09.txt'},\n",
       " {'class': 'French fries',\n",
       "  'image-path': './oid-samples/485dc52dd90caf74.jpg',\n",
       "  'label-path': './oid-samples/Label/485dc52dd90caf74.txt'},\n",
       " {'class': 'French fries',\n",
       "  'image-path': './oid-samples/19d4b405c051565d.jpg',\n",
       "  'label-path': './oid-samples/Label/19d4b405c051565d.txt'},\n",
       " {'class': 'French fries',\n",
       "  'image-path': './oid-samples/140e181fd950ccb2.jpg',\n",
       "  'label-path': './oid-samples/Label/140e181fd950ccb2.txt'},\n",
       " {'class': 'French fries',\n",
       "  'image-path': './oid-samples/dafa6b9c84a4ec68.jpg',\n",
       "  'label-path': './oid-samples/Label/dafa6b9c84a4ec68.txt'},\n",
       " {'class': 'French fries',\n",
       "  'image-path': './oid-samples/94e31b0871578e52.jpg',\n",
       "  'label-path': './oid-samples/Label/94e31b0871578e52.txt'},\n",
       " {'class': 'French fries',\n",
       "  'image-path': './oid-samples/d959e5ae8df027a1.jpg',\n",
       "  'label-path': './oid-samples/Label/d959e5ae8df027a1.txt'},\n",
       " {'class': 'French fries',\n",
       "  'image-path': './oid-samples/2ff8a2ed41132fdd.jpg',\n",
       "  'label-path': './oid-samples/Label/2ff8a2ed41132fdd.txt'},\n",
       " {'class': 'French fries',\n",
       "  'image-path': './oid-samples/b664353e2731a05c.jpg',\n",
       "  'label-path': './oid-samples/Label/b664353e2731a05c.txt'},\n",
       " {'class': 'French fries',\n",
       "  'image-path': './oid-samples/ac2cbecadfa7597c.jpg',\n",
       "  'label-path': './oid-samples/Label/ac2cbecadfa7597c.txt'},\n",
       " {'class': 'French fries',\n",
       "  'image-path': './oid-samples/76e8d5e935d062c0.jpg',\n",
       "  'label-path': './oid-samples/Label/76e8d5e935d062c0.txt'},\n",
       " {'class': 'French fries',\n",
       "  'image-path': './oid-samples/17c6e6827d3476c1.jpg',\n",
       "  'label-path': './oid-samples/Label/17c6e6827d3476c1.txt'},\n",
       " {'class': 'French fries',\n",
       "  'image-path': './oid-samples/25c9c209256dabb5.jpg',\n",
       "  'label-path': './oid-samples/Label/25c9c209256dabb5.txt'},\n",
       " {'class': 'French fries',\n",
       "  'image-path': './oid-samples/cf700b7b9b21abaa.jpg',\n",
       "  'label-path': './oid-samples/Label/cf700b7b9b21abaa.txt'},\n",
       " {'class': 'French fries',\n",
       "  'image-path': './oid-samples/3da025c7f8fd4113.jpg',\n",
       "  'label-path': './oid-samples/Label/3da025c7f8fd4113.txt'},\n",
       " {'class': 'French fries',\n",
       "  'image-path': './oid-samples/29588530cd4959af.jpg',\n",
       "  'label-path': './oid-samples/Label/29588530cd4959af.txt'},\n",
       " {'class': 'French fries',\n",
       "  'image-path': './oid-samples/3c0735e4a27ab2e0.jpg',\n",
       "  'label-path': './oid-samples/Label/3c0735e4a27ab2e0.txt'},\n",
       " {'class': 'French fries',\n",
       "  'image-path': './oid-samples/4b2e4d84fddf6348.jpg',\n",
       "  'label-path': './oid-samples/Label/4b2e4d84fddf6348.txt'},\n",
       " {'class': 'French fries',\n",
       "  'image-path': './oid-samples/cf16322b6aeb41c5.jpg',\n",
       "  'label-path': './oid-samples/Label/cf16322b6aeb41c5.txt'},\n",
       " {'class': 'French fries',\n",
       "  'image-path': './oid-samples/90343fdab05e832c.jpg',\n",
       "  'label-path': './oid-samples/Label/90343fdab05e832c.txt'},\n",
       " {'class': 'French fries',\n",
       "  'image-path': './oid-samples/02e49ce7212f9176.jpg',\n",
       "  'label-path': './oid-samples/Label/02e49ce7212f9176.txt'},\n",
       " {'class': 'French fries',\n",
       "  'image-path': './oid-samples/21fd801f9abdcaf4.jpg',\n",
       "  'label-path': './oid-samples/Label/21fd801f9abdcaf4.txt'},\n",
       " {'class': 'French fries',\n",
       "  'image-path': './oid-samples/b17d0a2759e4ec34.jpg',\n",
       "  'label-path': './oid-samples/Label/b17d0a2759e4ec34.txt'},\n",
       " {'class': 'French fries',\n",
       "  'image-path': './oid-samples/b285ac67b6b3f40a.jpg',\n",
       "  'label-path': './oid-samples/Label/b285ac67b6b3f40a.txt'},\n",
       " {'class': 'French fries',\n",
       "  'image-path': './oid-samples/6597986c3f60ba42.jpg',\n",
       "  'label-path': './oid-samples/Label/6597986c3f60ba42.txt'},\n",
       " {'class': 'French fries',\n",
       "  'image-path': './oid-samples/1fa8385175e871f1.jpg',\n",
       "  'label-path': './oid-samples/Label/1fa8385175e871f1.txt'},\n",
       " {'class': 'French fries',\n",
       "  'image-path': './oid-samples/2c48da973b97f97d.jpg',\n",
       "  'label-path': './oid-samples/Label/2c48da973b97f97d.txt'},\n",
       " {'class': 'French fries',\n",
       "  'image-path': './oid-samples/baf5dd1e1790c5fd.jpg',\n",
       "  'label-path': './oid-samples/Label/baf5dd1e1790c5fd.txt'},\n",
       " {'class': 'French fries',\n",
       "  'image-path': './oid-samples/001464cfae2a30b8.jpg',\n",
       "  'label-path': './oid-samples/Label/001464cfae2a30b8.txt'},\n",
       " {'class': 'French fries',\n",
       "  'image-path': './oid-samples/b3818b6704ca3270.jpg',\n",
       "  'label-path': './oid-samples/Label/b3818b6704ca3270.txt'},\n",
       " {'class': 'French fries',\n",
       "  'image-path': './oid-samples/ca29a15237d0f60e.jpg',\n",
       "  'label-path': './oid-samples/Label/ca29a15237d0f60e.txt'},\n",
       " {'class': 'French fries',\n",
       "  'image-path': './oid-samples/e69447fa72692165.jpg',\n",
       "  'label-path': './oid-samples/Label/e69447fa72692165.txt'},\n",
       " {'class': 'French fries',\n",
       "  'image-path': './oid-samples/898a4921ab9f4cce.jpg',\n",
       "  'label-path': './oid-samples/Label/898a4921ab9f4cce.txt'}]"
      ]
     },
     "execution_count": 8,
     "metadata": {},
     "output_type": "execute_result"
    }
   ],
   "source": [
    "data"
   ]
  },
  {
   "cell_type": "code",
   "execution_count": 9,
   "metadata": {
    "ExecuteTime": {
     "end_time": "2019-04-17T01:11:21.393936Z",
     "start_time": "2019-04-17T01:11:21.390415Z"
    }
   },
   "outputs": [],
   "source": [
    "master_template = \"\"\"\n",
    "<annotation>\n",
    "    <folder>{class_name}</folder>\n",
    "    <filename>{filename}</filename>\n",
    "    <path>/path/to/the/file/{filename}</path>\n",
    "    <source>\n",
    "        <database>Unknown</database>\n",
    "    </source>\n",
    "    <size>\n",
    "        <width>{image_width}</width>\n",
    "        <height>{image_height}</height>\n",
    "        <depth>3</depth>\n",
    "    </size>\n",
    "    <segmented>0</segmented>\n",
    "    {objects_template}\n",
    "</annotation>\n",
    "\"\"\"\n",
    "\n",
    "object_template =\"\"\"<object>\n",
    "        <name>{class_name}</name>\n",
    "        <pose>Unspecified</pose>\n",
    "        <truncated>0</truncated>\n",
    "        <difficult>0</difficult>\n",
    "        <bndbox>\n",
    "            <xmin>{xmin}</xmin>\n",
    "            <ymin>{ymin}</ymin>\n",
    "            <xmax>{xmax}</xmax>\n",
    "            <ymax>{ymax}</ymax>\n",
    "        </bndbox>\n",
    "    </object>\n",
    "\"\"\""
   ]
  },
  {
   "cell_type": "markdown",
   "metadata": {},
   "source": [
    "### Helper Functions"
   ]
  },
  {
   "cell_type": "code",
   "execution_count": 10,
   "metadata": {
    "ExecuteTime": {
     "end_time": "2019-04-17T01:11:21.401961Z",
     "start_time": "2019-04-17T01:11:21.396288Z"
    }
   },
   "outputs": [],
   "source": [
    "def return_dimensions(image_path):\n",
    "    \n",
    "    image = Image.open(image_path)\n",
    "    height = image.height\n",
    "    width = image.width\n",
    "    return height, width\n",
    "\n",
    "def return_boxes_from_lines(lines):\n",
    "    boxes = []\n",
    "    for l in lines:\n",
    "        box = []\n",
    "        l = l.replace('\\n', '')\n",
    "        items = l.split()\n",
    "        for i in items:\n",
    "            if '.' in i:\n",
    "                box.append(i)\n",
    "        boxes.append(box)\n",
    "    return boxes"
   ]
  },
  {
   "cell_type": "markdown",
   "metadata": {},
   "source": [
    "### Iterate through item data\n",
    "- Store filenames for exporting and templating\n",
    "- Get dimensions of image for template\n",
    "- Open annotation file, store bounding boxes\n",
    "- Generate object template for each bounding box\n",
    "- Generate master template\n",
    "- Save to XML to output folder"
   ]
  },
  {
   "cell_type": "code",
   "execution_count": 11,
   "metadata": {
    "ExecuteTime": {
     "end_time": "2019-04-17T01:11:21.461059Z",
     "start_time": "2019-04-17T01:11:21.405040Z"
    },
    "scrolled": true
   },
   "outputs": [],
   "source": [
    "for item in data:\n",
    "    \n",
    "    # Create filename (.jpg) and xml filename\n",
    "    filename = item['image-path'].split('/')[-1]\n",
    "    xml_filename = filename.split('.')[0] + '.xml'  \n",
    "    \n",
    "    # Get image dimensions\n",
    "    height, width = return_dimensions(item['image-path'])\n",
    "\n",
    "    # Load Labels\n",
    "    with open(item['label-path'], 'r') as f:\n",
    "        lines = f.readlines()\n",
    "        f.close()\n",
    "        \n",
    "    boxes = return_boxes_from_lines(lines)\n",
    "    \n",
    "    # Create Objects Template\n",
    "    objects = ''\n",
    "    for box in boxes:\n",
    "        box_template = object_template.format(xmin=int(float(box[0])),\n",
    "                                              ymin=int(float(box[1])),\n",
    "                                              xmax=int(float(box[2])),\n",
    "                                              ymax=int(float(box[3])),\n",
    "                                              class_name=CLASS)\n",
    "        objects += box_template\n",
    "    \n",
    "    # Creat Master template\n",
    "    \n",
    "    main_template = master_template.format(class_name=CLASS,\n",
    "                                          filename=item['image-path'].split('/')[-1],\n",
    "                                          image_height=height,\n",
    "                                          image_width=width,\n",
    "                                          objects_template=objects)\n",
    "    \n",
    "    # Save to folder\n",
    "    with open(os.path.join(OUTPUT_FOLDER, xml_filename), 'w') as xml_writer:\n",
    "        xml_writer.write(main_template)\n",
    "        xml_writer.close()"
   ]
  }
 ],
 "metadata": {
  "kernelspec": {
   "display_name": "Python 3",
   "language": "python",
   "name": "python3"
  },
  "language_info": {
   "codemirror_mode": {
    "name": "ipython",
    "version": 3
   },
   "file_extension": ".py",
   "mimetype": "text/x-python",
   "name": "python",
   "nbconvert_exporter": "python",
   "pygments_lexer": "ipython3",
   "version": "3.6.5"
  },
  "toc": {
   "base_numbering": 1,
   "nav_menu": {},
   "number_sections": true,
   "sideBar": true,
   "skip_h1_title": false,
   "title_cell": "Table of Contents",
   "title_sidebar": "Contents",
   "toc_cell": false,
   "toc_position": {},
   "toc_section_display": true,
   "toc_window_display": false
  },
  "varInspector": {
   "cols": {
    "lenName": 16,
    "lenType": 16,
    "lenVar": 40
   },
   "kernels_config": {
    "python": {
     "delete_cmd_postfix": "",
     "delete_cmd_prefix": "del ",
     "library": "var_list.py",
     "varRefreshCmd": "print(var_dic_list())"
    },
    "r": {
     "delete_cmd_postfix": ") ",
     "delete_cmd_prefix": "rm(",
     "library": "var_list.r",
     "varRefreshCmd": "cat(var_dic_list()) "
    }
   },
   "types_to_exclude": [
    "module",
    "function",
    "builtin_function_or_method",
    "instance",
    "_Feature"
   ],
   "window_display": false
  }
 },
 "nbformat": 4,
 "nbformat_minor": 2
}
